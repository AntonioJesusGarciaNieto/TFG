{
  "nbformat": 4,
  "nbformat_minor": 0,
  "metadata": {
    "kernelspec": {
      "display_name": "Python 3",
      "language": "python",
      "name": "python3"
    },
    "language_info": {
      "codemirror_mode": {
        "name": "ipython",
        "version": 3
      },
      "file_extension": ".py",
      "mimetype": "text/x-python",
      "name": "python",
      "nbconvert_exporter": "python",
      "pygments_lexer": "ipython3",
      "version": "3.8.3"
    },
    "colab": {
      "name": "Experimento 1. Dropout,BachNormalization..ipynb",
      "provenance": []
    }
  },
  "cells": [
    {
      "cell_type": "markdown",
      "metadata": {
        "id": "IzNDKIqystx_"
      },
      "source": [
        "# Experimento I : Validación del artículo \"Multiple sclerosis identification by convolutional neural network with dropout and parametric ReLU\".\r\n",
        "\r\n",
        "En este experimiento usaremos la infraestructura planteada para comprobar si las ideas del artículo \"Multiple sclerosis identification by convolutional neural network with dropout and parametric ReLU\" se validan en la red CNN_SOCO, la cual tratamos en el experimento 0.\r\n"
      ]
    },
    {
      "cell_type": "markdown",
      "metadata": {
        "id": "v4dwDteNsxSR"
      },
      "source": [
        "## Librerías usadas"
      ]
    },
    {
      "cell_type": "code",
      "metadata": {
        "id": "r2r0yQgisrPB"
      },
      "source": [
        "import numpy as np\n",
        "import pandas as pd\n",
        "import seaborn as sns\n",
        "from glob import glob\n",
        "from matplotlib import pyplot as plt\n",
        "import os\n",
        "import tensorflow as tf\n",
        "from tqdm import tqdm\n",
        "import cv2\n",
        "from sklearn.model_selection import train_test_split\n",
        "from sklearn.metrics import confusion_matrix\n",
        "from sklearn.utils import resample"
      ],
      "execution_count": null,
      "outputs": []
    },
    {
      "cell_type": "markdown",
      "metadata": {
        "id": "d8GTPRPms4js"
      },
      "source": [
        "## Parámetros globales"
      ]
    },
    {
      "cell_type": "code",
      "metadata": {
        "id": "A__4F2cBsrPH",
        "outputId": "0d41bcc9-7be7-4adb-ca99-240051fbf0d3"
      },
      "source": [
        "#Rutas de los datos.\n",
        " \n",
        "data_dir = os.path.dirname(os.path.realpath(\"../TFG/Datos/HAM10000_metadata.csv\"))\n",
        "\n",
        "\n",
        "\n",
        "csv_path = os.path.realpath(data_dir + \"/HAM10000_metadata.csv\")\n",
        "\n",
        "#Variables globales\n",
        "\n",
        "altura = 50\n",
        "longitud = 50\n",
        "clases = 7\n",
        "\n",
        "\n",
        "print(data_dir)\n",
        "\n",
        "print(csv_path)\n",
        "\n"
      ],
      "execution_count": null,
      "outputs": [
        {
          "output_type": "stream",
          "text": [
            "/home/antoniojesus/Escritorio/TFG/Datos\n",
            "/home/antoniojesus/Escritorio/TFG/Datos/HAM10000_metadata.csv\n"
          ],
          "name": "stdout"
        }
      ]
    },
    {
      "cell_type": "markdown",
      "metadata": {
        "id": "qcVpMZY_s9AJ"
      },
      "source": [
        "## Creación del marco de datos"
      ]
    },
    {
      "cell_type": "code",
      "metadata": {
        "id": "gpMhwnUpsrPJ",
        "outputId": "a640474b-eaaa-44f0-ed0e-fa8dcf89bb2f"
      },
      "source": [
        "#Inicializando el dataFrame\n",
        "\n",
        "dataFrame=pd.read_csv(csv_path)\n",
        "\n",
        "#Mezclando carpetas.\n",
        "\n",
        "all_image_path = glob(os.path.join(data_dir, '*', '*'))\n",
        "imageid_path_dict = {os.path.splitext(os.path.basename(x))[0]: x for x in all_image_path}\n",
        "\n",
        "# Inicializando diccionario de categorías\n",
        "\n",
        "lesion_type_dict = {\n",
        "    'nv': 'Melanocytic nevi',\n",
        "    'mel': 'Melanoma',\n",
        "    'bkl': 'Benign keratosis ',\n",
        "    'bcc': 'Basal cell carcinoma',\n",
        "    'akiec': 'Actinic keratoses',\n",
        "    'vasc': 'Vascular lesions',\n",
        "    'df': 'Dermatofibroma'\n",
        "}\n",
        "\n",
        "#Añadiendo columnas al dataFrame para que sea más legible.\n",
        "\n",
        "dataFrame['path'] = dataFrame['image_id'].map(imageid_path_dict.get)\n",
        "dataFrame['cell_type'] = dataFrame['dx'].map(lesion_type_dict.get) \n",
        "dataFrame['cell_type_idx'] = pd.Categorical(dataFrame['cell_type']).codes\n",
        "dataFrame.head()"
      ],
      "execution_count": null,
      "outputs": [
        {
          "output_type": "execute_result",
          "data": {
            "text/html": [
              "<div>\n",
              "<style scoped>\n",
              "    .dataframe tbody tr th:only-of-type {\n",
              "        vertical-align: middle;\n",
              "    }\n",
              "\n",
              "    .dataframe tbody tr th {\n",
              "        vertical-align: top;\n",
              "    }\n",
              "\n",
              "    .dataframe thead th {\n",
              "        text-align: right;\n",
              "    }\n",
              "</style>\n",
              "<table border=\"1\" class=\"dataframe\">\n",
              "  <thead>\n",
              "    <tr style=\"text-align: right;\">\n",
              "      <th></th>\n",
              "      <th>lesion_id</th>\n",
              "      <th>image_id</th>\n",
              "      <th>dx</th>\n",
              "      <th>dx_type</th>\n",
              "      <th>age</th>\n",
              "      <th>sex</th>\n",
              "      <th>localization</th>\n",
              "      <th>path</th>\n",
              "      <th>cell_type</th>\n",
              "      <th>cell_type_idx</th>\n",
              "    </tr>\n",
              "  </thead>\n",
              "  <tbody>\n",
              "    <tr>\n",
              "      <th>0</th>\n",
              "      <td>HAM_0000118</td>\n",
              "      <td>ISIC_0027419</td>\n",
              "      <td>bkl</td>\n",
              "      <td>histo</td>\n",
              "      <td>80.0</td>\n",
              "      <td>male</td>\n",
              "      <td>scalp</td>\n",
              "      <td>/home/antoniojesus/Escritorio/TFG/Datos/HAM100...</td>\n",
              "      <td>Benign keratosis</td>\n",
              "      <td>2</td>\n",
              "    </tr>\n",
              "    <tr>\n",
              "      <th>1</th>\n",
              "      <td>HAM_0000118</td>\n",
              "      <td>ISIC_0025030</td>\n",
              "      <td>bkl</td>\n",
              "      <td>histo</td>\n",
              "      <td>80.0</td>\n",
              "      <td>male</td>\n",
              "      <td>scalp</td>\n",
              "      <td>/home/antoniojesus/Escritorio/TFG/Datos/HAM100...</td>\n",
              "      <td>Benign keratosis</td>\n",
              "      <td>2</td>\n",
              "    </tr>\n",
              "    <tr>\n",
              "      <th>2</th>\n",
              "      <td>HAM_0002730</td>\n",
              "      <td>ISIC_0026769</td>\n",
              "      <td>bkl</td>\n",
              "      <td>histo</td>\n",
              "      <td>80.0</td>\n",
              "      <td>male</td>\n",
              "      <td>scalp</td>\n",
              "      <td>/home/antoniojesus/Escritorio/TFG/Datos/HAM100...</td>\n",
              "      <td>Benign keratosis</td>\n",
              "      <td>2</td>\n",
              "    </tr>\n",
              "    <tr>\n",
              "      <th>3</th>\n",
              "      <td>HAM_0002730</td>\n",
              "      <td>ISIC_0025661</td>\n",
              "      <td>bkl</td>\n",
              "      <td>histo</td>\n",
              "      <td>80.0</td>\n",
              "      <td>male</td>\n",
              "      <td>scalp</td>\n",
              "      <td>/home/antoniojesus/Escritorio/TFG/Datos/HAM100...</td>\n",
              "      <td>Benign keratosis</td>\n",
              "      <td>2</td>\n",
              "    </tr>\n",
              "    <tr>\n",
              "      <th>4</th>\n",
              "      <td>HAM_0001466</td>\n",
              "      <td>ISIC_0031633</td>\n",
              "      <td>bkl</td>\n",
              "      <td>histo</td>\n",
              "      <td>75.0</td>\n",
              "      <td>male</td>\n",
              "      <td>ear</td>\n",
              "      <td>/home/antoniojesus/Escritorio/TFG/Datos/HAM100...</td>\n",
              "      <td>Benign keratosis</td>\n",
              "      <td>2</td>\n",
              "    </tr>\n",
              "  </tbody>\n",
              "</table>\n",
              "</div>"
            ],
            "text/plain": [
              "     lesion_id      image_id   dx dx_type   age   sex localization  \\\n",
              "0  HAM_0000118  ISIC_0027419  bkl   histo  80.0  male        scalp   \n",
              "1  HAM_0000118  ISIC_0025030  bkl   histo  80.0  male        scalp   \n",
              "2  HAM_0002730  ISIC_0026769  bkl   histo  80.0  male        scalp   \n",
              "3  HAM_0002730  ISIC_0025661  bkl   histo  80.0  male        scalp   \n",
              "4  HAM_0001466  ISIC_0031633  bkl   histo  75.0  male          ear   \n",
              "\n",
              "                                                path          cell_type  \\\n",
              "0  /home/antoniojesus/Escritorio/TFG/Datos/HAM100...  Benign keratosis    \n",
              "1  /home/antoniojesus/Escritorio/TFG/Datos/HAM100...  Benign keratosis    \n",
              "2  /home/antoniojesus/Escritorio/TFG/Datos/HAM100...  Benign keratosis    \n",
              "3  /home/antoniojesus/Escritorio/TFG/Datos/HAM100...  Benign keratosis    \n",
              "4  /home/antoniojesus/Escritorio/TFG/Datos/HAM100...  Benign keratosis    \n",
              "\n",
              "   cell_type_idx  \n",
              "0              2  \n",
              "1              2  \n",
              "2              2  \n",
              "3              2  \n",
              "4              2  "
            ]
          },
          "metadata": {
            "tags": []
          },
          "execution_count": 3
        }
      ]
    },
    {
      "cell_type": "markdown",
      "metadata": {
        "id": "Cqvdq0KTtHzS"
      },
      "source": [
        "## Elección de arquitectura"
      ]
    },
    {
      "cell_type": "code",
      "metadata": {
        "id": "7VpGl03osrPK"
      },
      "source": [
        "def select_network(nn_base_arch):\n",
        "    if nn_base_arch =='CNN_S_MAX':\n",
        "        nn = cnn_soco()\n",
        "    if nn_base_arch =='CNN_S_AVG':\n",
        "        nn = cnn_soco_average()\n",
        "    if nn_base_arch =='CNN_S_PRELU_MAX':\n",
        "        nn = cnn_soco_prelu_max()\n",
        "    if nn_base_arch =='CNN_S_PRELU_AVG':\n",
        "        nn = cnn_soco_prelu_average()\n",
        "        \n",
        "    return nn"
      ],
      "execution_count": null,
      "outputs": []
    },
    {
      "cell_type": "code",
      "metadata": {
        "id": "tDdaW0FosrPK"
      },
      "source": [
        "def cnn_soco():\n",
        "    \n",
        "    model = tf.keras.Sequential()\n",
        "    \n",
        "    model.add(tf.keras.layers.Conv2D(32, (3,3),(1,1), activation='relu',input_shape=(altura,longitud,3)))\n",
        "    model.add(tf.keras.layers.Conv2D(32, (3,3),(1,1),activation='relu'))\n",
        "    model.add(tf.keras.layers.MaxPooling2D((2,2)))\n",
        "\n",
        " \n",
        "    model.add(tf.keras.layers.Conv2D(64, (3,3), activation='relu'))\n",
        "    model.add(tf.keras.layers.MaxPooling2D((2,2)))\n",
        "    \n",
        "    print(model.summary())\n",
        "    \n",
        "    return model"
      ],
      "execution_count": null,
      "outputs": []
    },
    {
      "cell_type": "code",
      "metadata": {
        "id": "mvR-DKYBsrPL"
      },
      "source": [
        "def cnn_soco_average():\n",
        "    \n",
        "    model = tf.keras.Sequential()\n",
        "    \n",
        "    model.add(tf.keras.layers.Conv2D(32, (3,3),(1,1), activation='relu',input_shape=(altura,longitud,3)))\n",
        "    model.add(tf.keras.layers.Conv2D(32, (3,3),(1,1),activation='relu'))\n",
        "    model.add(tf.keras.layers.AveragePooling2D((2,2)))\n",
        "\n",
        " \n",
        "    model.add(tf.keras.layers.Conv2D(64, (3,3), activation='relu'))\n",
        "    model.add(tf.keras.layers.AveragePooling2D((2,2)))\n",
        "    \n",
        "    print(model.summary())\n",
        "    \n",
        "    return model\n",
        "\n",
        "def cnn_soco_prelu_max():\n",
        "    model = tf.keras.Sequential()\n",
        "\n",
        "    model.add(tf.keras.layers.Conv2D(32,(3,3),(1,1),input_shape=(altura,longitud,3)))\n",
        "    model.add(tf.keras.layers.PReLU())\n",
        "    model.add(tf.keras.layers.Conv2D(32,(3,3),(1,1))) \n",
        "    model.add(tf.keras.layers.PReLU())\n",
        "    model.add(tf.keras.layers.MaxPooling2D((2,2)))\n",
        "    \n",
        "    model.add(tf.keras.layers.Conv2D(64, (3,3))) \n",
        "    model.add(tf.keras.layers.PReLU())\n",
        "    model.add(tf.keras.layers.MaxPooling2D((2,2)))\n",
        "    \n",
        "    print(model.summary())        \n",
        "              \n",
        "    return model\n",
        "\n",
        "def cnn_soco_prelu_average():\n",
        "    model = tf.keras.Sequential()\n",
        "\n",
        "    model.add(tf.keras.layers.Conv2D(32,(3,3),(1,1),input_shape=(altura,longitud,3)))\n",
        "    model.add(tf.keras.layers.PReLU())\n",
        "    model.add(tf.keras.layers.Conv2D(32,(3,3),(1,1))) \n",
        "    model.add(tf.keras.layers.PReLU())\n",
        "    model.add(tf.keras.layers.AveragePooling2D((2,2)))\n",
        "    \n",
        "    model.add(tf.keras.layers.Conv2D(64, (3,3))) \n",
        "    model.add(tf.keras.layers.PReLU())\n",
        "    model.add(tf.keras.layers.AveragePooling2D((2,2)))\n",
        "\n",
        "    print(model.summary())          \n",
        "    \n",
        "    return model\n",
        "\n"
      ],
      "execution_count": null,
      "outputs": []
    },
    {
      "cell_type": "code",
      "metadata": {
        "id": "j3o3Nw5jsrPL"
      },
      "source": [
        "def build(nn):\n",
        "    model = tf.keras.Sequential()\n",
        "    model.add(nn)\n",
        "    model.add(tf.keras.layers.AveragePooling2D((1,1),3))\n",
        "    \n",
        "    model.add(tf.keras.layers.Dense(512))\n",
        "    model.add(tf.keras.layers.Activation('relu'))  \n",
        "    model.add(tf.keras.layers.Dropout(0.4))\n",
        "\n",
        "    model.add(tf.keras.layers.Dense(clases,activation='softmax'))\n",
        "  \n",
        "  \n",
        "\n",
        "    print(model.summary())\n",
        "\n",
        "    return model\n",
        "\n",
        "def build_dense(nn):\n",
        "    model = tf.keras.Sequential()\n",
        "    model.add(nn)\n",
        "    model.add(tf.keras.layers.Flatten())\n",
        "    \n",
        "    model.add(tf.keras.layers.Dense(1024))\n",
        "    model.add(tf.keras.layers.Activation('relu'))\n",
        "    \n",
        "    model.add(tf.keras.layers.Dense(1024))\n",
        "    model.add(tf.keras.layers.Activation('relu'))\n",
        "\n",
        "    model.add(tf.keras.layers.Dense(clases,activation='softmax'))\n",
        "  \n",
        "  \n",
        "\n",
        "    print(model.summary())\n",
        "\n",
        "    return model\n",
        "\n",
        "def build_dense_dropout(nn):\n",
        "    model = tf.keras.Sequential()\n",
        "    \n",
        "    model.add(nn)\n",
        "    model.add(tf.keras.layers.Flatten())\n",
        "    \n",
        "    model.add(tf.keras.layers.Dense(1024))\n",
        "    model.add(tf.keras.layers.Activation('relu'))\n",
        "    model.add(tf.keras.layers.Dropout(0.2))\n",
        "    \n",
        "    model.add(tf.keras.layers.Dense(1024))\n",
        "    model.add(tf.keras.layers.Activation('relu'))\n",
        "    model.add(tf.keras.layers.Dropout(0.4))\n",
        "    \n",
        "    model.add(tf.keras.layers.Dense(clases,activation='softmax'))\n",
        "\n",
        "    print(model.summary())\n",
        "\n",
        "    return model\n",
        "\n",
        "def build_dense_dropout_prelu(nn):\n",
        "    model = tf.keras.Sequential()\n",
        "    \n",
        "    model.add(nn)\n",
        "    model.add(tf.keras.layers.Flatten())\n",
        "    \n",
        "    model.add(tf.keras.layers.Dense(1024))\n",
        "    model.add(tf.keras.layers.PReLU())\n",
        "    model.add(tf.keras.layers.Dropout(0.2))\n",
        "    \n",
        "    model.add(tf.keras.layers.Dense(1024))\n",
        "    model.add(tf.keras.layers.PReLU())\n",
        "    model.add(tf.keras.layers.Dropout(0.4))\n",
        "    \n",
        "    model.add(tf.keras.layers.Dense(clases,activation='softmax'))\n",
        "\n",
        "    print(model.summary())\n",
        "\n",
        "    return model"
      ],
      "execution_count": null,
      "outputs": []
    },
    {
      "cell_type": "markdown",
      "metadata": {
        "id": "EesKh5nQtQYT"
      },
      "source": [
        "## Carga de datos"
      ]
    },
    {
      "cell_type": "code",
      "metadata": {
        "id": "DAS9eEyct7w9"
      },
      "source": [
        "def balanced_dataset(df):\r\n",
        "    df_balanced = pd.DataFrame()\r\n",
        "    #df = pd.DataFrame()\r\n",
        "    \r\n",
        "    for cat in df['cell_type_idx'].unique():\r\n",
        "        temp = resample(df[df['cell_type_idx'] == cat], \r\n",
        "                        replace=True,     # sample with replacement\r\n",
        "                        n_samples=2500,   # to match majority class\r\n",
        "                        random_state=123) # reproducible results\r\n",
        "\r\n",
        "        # Combine majority class with upsampled minority class\r\n",
        "        df_balanced = pd.concat([df_balanced, temp])\r\n",
        " \r\n",
        "    df_balanced['cell_type'].value_counts()\r\n",
        "\r\n",
        "    return df_balanced\r\n",
        "\r\n",
        "def load_img_data(size, df, balanced=False):\r\n",
        "    \"\"\"\r\n",
        "        ..\r\n",
        "        first we should normalize the image from 0-255 to 0-1\r\n",
        "    \"\"\"\r\n",
        "    \r\n",
        "    img_h, img_w = size, size\r\n",
        "    imgs = []\r\n",
        "    \r\n",
        "    if balanced:\r\n",
        "        df = balanced_dataset(df)\r\n",
        "    \r\n",
        "    image_paths = list(df['path'])\r\n",
        "\r\n",
        "    for i in tqdm(range(len(image_paths))):\r\n",
        "        img = cv2.imread(image_paths[i])\r\n",
        "        img = cv2.resize(img, (img_h, img_w))\r\n",
        "        img = img.astype(np.float32) / 255.\r\n",
        "        #img = np.asarray(Image.open(image_paths[i]).resize((size,size)))\r\n",
        "        imgs.append(img)\r\n",
        "\r\n",
        "    imgs = np.stack(imgs, axis=0)\r\n",
        "    print(imgs.shape)\r\n",
        "\r\n",
        "    #imgs = imgs.astype(np.float32) / 255.\r\n",
        "    \r\n",
        "    return imgs, df['cell_type_idx'].values"
      ],
      "execution_count": null,
      "outputs": []
    },
    {
      "cell_type": "code",
      "metadata": {
        "id": "Sx8yWrsqsrPL",
        "outputId": "9a320949-b17d-4a69-d0df-2b3d84b90d61"
      },
      "source": [
        "imgs, target = load_img_data(altura, dataFrame, balanced=True)"
      ],
      "execution_count": null,
      "outputs": [
        {
          "output_type": "stream",
          "text": [
            "100%|██████████| 17500/17500 [03:33<00:00, 82.01it/s] \n"
          ],
          "name": "stderr"
        },
        {
          "output_type": "stream",
          "text": [
            "(17500, 50, 50, 3)\n"
          ],
          "name": "stdout"
        }
      ]
    },
    {
      "cell_type": "code",
      "metadata": {
        "id": "FWCvmCg2srPM"
      },
      "source": [
        "x_train, x_test, y_train, y_test = train_test_split(imgs, target, test_size=0.20)\n",
        "x_train, x_val, y_train, y_val = train_test_split(x_train, y_train, test_size=0.05)\n",
        "\n",
        "train_val_test = (x_train, y_train, x_val, y_val, x_test, y_test)\n",
        "\n",
        "[x_train.shape, x_val.shape, x_test.shape]\n",
        "\n",
        "trainX = train_val_test[0]\n",
        "trainY = train_val_test[1]\n",
        "valX = train_val_test[2]\n",
        "valY = train_val_test[3]\n",
        "testX = train_val_test[4]\n",
        "testY = train_val_test[5]\n",
        "\n",
        "numTrainingSamples = trainX.shape[0]\n",
        "numValidationSamples = valX.shape[0]"
      ],
      "execution_count": null,
      "outputs": []
    },
    {
      "cell_type": "markdown",
      "metadata": {
        "id": "Tn5-JYZRtXNR"
      },
      "source": [
        "## Fase de entrenamiento"
      ]
    },
    {
      "cell_type": "code",
      "metadata": {
        "id": "kd4B5IOKsrPN"
      },
      "source": [
        "def run_train(nn_base_arch,checkpoint,epocas,mode = False):\n",
        "    nn = select_network(nn_base_arch)\n",
        "    \n",
        "    if mode == 0 :\n",
        "        model = build(nn)\n",
        "    if mode == 1 :\n",
        "        model = build_dense(nn)    \n",
        "    if mode == 2 :\n",
        "        model = build_dense_dropout(nn)\n",
        "        \n",
        "    if mode == 3 :\n",
        "        model = build_dense_dropout_prelu(nn)\n",
        "\n",
        "        \n",
        "    checkpoint = tf.keras.callbacks.ModelCheckpoint(checkpoint, monitor=\"val_loss\", mode=\"min\", save_best_only=True, verbose=1)\n",
        "    model.compile(loss='sparse_categorical_crossentropy', optimizer=optAMSGrad, metrics=['accuracy','mse'])\n",
        "    history = model.fit(x_train, y_train,steps_per_epoch=(numTrainingSamples/(mbs*25)),epochs=epocas,validation_data=(valX, valY),callbacks=[checkpoint],batch_size = mbs)\n",
        "  \n",
        "    return history\n",
        "\n",
        "def re_train(model,checkpoint,epocas):\n",
        "    checkpoint = tf.keras.callbacks.ModelCheckpoint(checkpoint, monitor=\"val_loss\", mode=\"min\", save_best_only=True, verbose=1)\n",
        "    history = model.fit(x_train, y_train,steps_per_epoch=(numTrainingSamples/(mbs*25)),epochs=epocas,validation_data=(valX, valY),callbacks=[checkpoint],batch_size = mbs)\n",
        "  \n",
        "    return history"
      ],
      "execution_count": null,
      "outputs": []
    },
    {
      "cell_type": "markdown",
      "metadata": {
        "id": "ZDR8fkcItczk"
      },
      "source": [
        "### Definición de algunos parámetros importantes"
      ]
    },
    {
      "cell_type": "code",
      "metadata": {
        "id": "-WLZRBzhsrPN",
        "outputId": "362fb4a8-9d0c-4c72-b07e-f09047cb893a"
      },
      "source": [
        "mini_batch_size =numTrainingSamples/875\n",
        "mbs=int(mini_batch_size)\n",
        "mbs\n"
      ],
      "execution_count": null,
      "outputs": [
        {
          "output_type": "execute_result",
          "data": {
            "text/plain": [
              "15"
            ]
          },
          "metadata": {
            "tags": []
          },
          "execution_count": 15
        }
      ]
    },
    {
      "cell_type": "code",
      "metadata": {
        "id": "9_63Sa-dsrPN"
      },
      "source": [
        "optAMSGrad = tf.keras.optimizers.Adam(\n",
        "    learning_rate=0.001,\n",
        "    beta_1=0.9,\n",
        "    beta_2=0.999,\n",
        "    epsilon=1e-07,\n",
        "    amsgrad=True,\n",
        "    name=\"AMSGrad\"\n",
        "\n",
        ")\n",
        "\n",
        "RMSpropEstudio = tf.keras.optimizers.RMSprop(\n",
        "    learning_rate=0.0001\n",
        ")"
      ],
      "execution_count": null,
      "outputs": []
    },
    {
      "cell_type": "markdown",
      "metadata": {
        "id": "mUA3nRgwtriR"
      },
      "source": [
        "### Entrenamiento"
      ]
    },
    {
      "cell_type": "code",
      "metadata": {
        "id": "5W0pd04PsrPO",
        "outputId": "6f6d1c1e-1644-4385-be6e-2ce0ff4b6148"
      },
      "source": [
        "epocas = 500\n",
        "nn_base_arch = \"CNN_S_MAX\"\n",
        "checkpoint =\"../TFG/Modelos/Experimento2/balanced_model_\"+nn_base_arch+\"_AE_ph2_weights.h5\"\n",
        "history = run_train(nn_base_arch,checkpoint,epocas,0)"
      ],
      "execution_count": null,
      "outputs": [
        {
          "output_type": "stream",
          "text": [
            "Model: \"sequential_12\"\n",
            "_________________________________________________________________\n",
            "Layer (type)                 Output Shape              Param #   \n",
            "=================================================================\n",
            "conv2d_18 (Conv2D)           (None, 48, 48, 32)        896       \n",
            "_________________________________________________________________\n",
            "conv2d_19 (Conv2D)           (None, 46, 46, 32)        9248      \n",
            "_________________________________________________________________\n",
            "max_pooling2d_12 (MaxPooling (None, 23, 23, 32)        0         \n",
            "_________________________________________________________________\n",
            "conv2d_20 (Conv2D)           (None, 21, 21, 64)        18496     \n",
            "_________________________________________________________________\n",
            "max_pooling2d_13 (MaxPooling (None, 10, 10, 64)        0         \n",
            "=================================================================\n",
            "Total params: 28,640\n",
            "Trainable params: 28,640\n",
            "Non-trainable params: 0\n",
            "_________________________________________________________________\n",
            "None\n",
            "Model: \"sequential_13\"\n",
            "_________________________________________________________________\n",
            "Layer (type)                 Output Shape              Param #   \n",
            "=================================================================\n",
            "sequential_12 (Sequential)   (None, 10, 10, 64)        28640     \n",
            "_________________________________________________________________\n",
            "average_pooling2d_1 (Average (None, 10, 10, 64)        0         \n",
            "_________________________________________________________________\n",
            "dense_33 (Dense)             (None, 10, 10, 512)       33280     \n",
            "_________________________________________________________________\n",
            "activation_27 (Activation)   (None, 10, 10, 512)       0         \n",
            "_________________________________________________________________\n",
            "dropout_9 (Dropout)          (None, 10, 10, 512)       0         \n",
            "_________________________________________________________________\n",
            "dense_34 (Dense)             (None, 10, 10, 7)         3591      \n",
            "=================================================================\n",
            "Total params: 65,511\n",
            "Trainable params: 65,511\n",
            "Non-trainable params: 0\n",
            "_________________________________________________________________\n",
            "None\n",
            "Epoch 1/500\n"
          ],
          "name": "stdout"
        },
        {
          "output_type": "error",
          "ename": "InvalidArgumentError",
          "evalue": " Incompatible shapes: [15,10,10,7] vs. [15,1]\n\t [[node SquaredDifference (defined at <ipython-input-24-c3b041ad8b35>:17) ]] [Op:__inference_train_function_286294]\n\nFunction call stack:\ntrain_function\n",
          "traceback": [
            "\u001b[0;31m---------------------------------------------------------------------------\u001b[0m",
            "\u001b[0;31mInvalidArgumentError\u001b[0m                      Traceback (most recent call last)",
            "\u001b[0;32m<ipython-input-31-95a628fd6264>\u001b[0m in \u001b[0;36m<module>\u001b[0;34m\u001b[0m\n\u001b[1;32m      2\u001b[0m \u001b[0mnn_base_arch\u001b[0m \u001b[0;34m=\u001b[0m \u001b[0;34m\"CNN_S_MAX\"\u001b[0m\u001b[0;34m\u001b[0m\u001b[0;34m\u001b[0m\u001b[0m\n\u001b[1;32m      3\u001b[0m \u001b[0mcheckpoint\u001b[0m \u001b[0;34m=\u001b[0m\u001b[0;34m\"../TFG/Modelos/Experimento2/balanced_model_\"\u001b[0m\u001b[0;34m+\u001b[0m\u001b[0mnn_base_arch\u001b[0m\u001b[0;34m+\u001b[0m\u001b[0;34m\"_AE_ph2_weights.h5\"\u001b[0m\u001b[0;34m\u001b[0m\u001b[0;34m\u001b[0m\u001b[0m\n\u001b[0;32m----> 4\u001b[0;31m \u001b[0mhistory\u001b[0m \u001b[0;34m=\u001b[0m \u001b[0mrun_train\u001b[0m\u001b[0;34m(\u001b[0m\u001b[0mnn_base_arch\u001b[0m\u001b[0;34m,\u001b[0m\u001b[0mcheckpoint\u001b[0m\u001b[0;34m,\u001b[0m\u001b[0mepocas\u001b[0m\u001b[0;34m,\u001b[0m\u001b[0;36m0\u001b[0m\u001b[0;34m)\u001b[0m\u001b[0;34m\u001b[0m\u001b[0;34m\u001b[0m\u001b[0m\n\u001b[0m",
            "\u001b[0;32m<ipython-input-24-c3b041ad8b35>\u001b[0m in \u001b[0;36mrun_train\u001b[0;34m(nn_base_arch, checkpoint, epocas, mode)\u001b[0m\n\u001b[1;32m     15\u001b[0m     \u001b[0mcheckpoint\u001b[0m \u001b[0;34m=\u001b[0m \u001b[0mtf\u001b[0m\u001b[0;34m.\u001b[0m\u001b[0mkeras\u001b[0m\u001b[0;34m.\u001b[0m\u001b[0mcallbacks\u001b[0m\u001b[0;34m.\u001b[0m\u001b[0mModelCheckpoint\u001b[0m\u001b[0;34m(\u001b[0m\u001b[0mcheckpoint\u001b[0m\u001b[0;34m,\u001b[0m \u001b[0mmonitor\u001b[0m\u001b[0;34m=\u001b[0m\u001b[0;34m\"val_loss\"\u001b[0m\u001b[0;34m,\u001b[0m \u001b[0mmode\u001b[0m\u001b[0;34m=\u001b[0m\u001b[0;34m\"min\"\u001b[0m\u001b[0;34m,\u001b[0m \u001b[0msave_best_only\u001b[0m\u001b[0;34m=\u001b[0m\u001b[0;32mTrue\u001b[0m\u001b[0;34m,\u001b[0m \u001b[0mverbose\u001b[0m\u001b[0;34m=\u001b[0m\u001b[0;36m1\u001b[0m\u001b[0;34m)\u001b[0m\u001b[0;34m\u001b[0m\u001b[0;34m\u001b[0m\u001b[0m\n\u001b[1;32m     16\u001b[0m     \u001b[0mmodel\u001b[0m\u001b[0;34m.\u001b[0m\u001b[0mcompile\u001b[0m\u001b[0;34m(\u001b[0m\u001b[0mloss\u001b[0m\u001b[0;34m=\u001b[0m\u001b[0;34m'sparse_categorical_crossentropy'\u001b[0m\u001b[0;34m,\u001b[0m \u001b[0moptimizer\u001b[0m\u001b[0;34m=\u001b[0m\u001b[0moptAMSGrad\u001b[0m\u001b[0;34m,\u001b[0m \u001b[0mmetrics\u001b[0m\u001b[0;34m=\u001b[0m\u001b[0;34m[\u001b[0m\u001b[0;34m'accuracy'\u001b[0m\u001b[0;34m,\u001b[0m\u001b[0;34m'mse'\u001b[0m\u001b[0;34m]\u001b[0m\u001b[0;34m)\u001b[0m\u001b[0;34m\u001b[0m\u001b[0;34m\u001b[0m\u001b[0m\n\u001b[0;32m---> 17\u001b[0;31m     \u001b[0mhistory\u001b[0m \u001b[0;34m=\u001b[0m \u001b[0mmodel\u001b[0m\u001b[0;34m.\u001b[0m\u001b[0mfit\u001b[0m\u001b[0;34m(\u001b[0m\u001b[0mx_train\u001b[0m\u001b[0;34m,\u001b[0m \u001b[0my_train\u001b[0m\u001b[0;34m,\u001b[0m\u001b[0msteps_per_epoch\u001b[0m\u001b[0;34m=\u001b[0m\u001b[0;34m(\u001b[0m\u001b[0mnumTrainingSamples\u001b[0m\u001b[0;34m/\u001b[0m\u001b[0;34m(\u001b[0m\u001b[0mmbs\u001b[0m\u001b[0;34m*\u001b[0m\u001b[0;36m25\u001b[0m\u001b[0;34m)\u001b[0m\u001b[0;34m)\u001b[0m\u001b[0;34m,\u001b[0m\u001b[0mepochs\u001b[0m\u001b[0;34m=\u001b[0m\u001b[0mepocas\u001b[0m\u001b[0;34m,\u001b[0m\u001b[0mvalidation_data\u001b[0m\u001b[0;34m=\u001b[0m\u001b[0;34m(\u001b[0m\u001b[0mvalX\u001b[0m\u001b[0;34m,\u001b[0m \u001b[0mvalY\u001b[0m\u001b[0;34m)\u001b[0m\u001b[0;34m,\u001b[0m\u001b[0mcallbacks\u001b[0m\u001b[0;34m=\u001b[0m\u001b[0;34m[\u001b[0m\u001b[0mcheckpoint\u001b[0m\u001b[0;34m]\u001b[0m\u001b[0;34m,\u001b[0m\u001b[0mbatch_size\u001b[0m \u001b[0;34m=\u001b[0m \u001b[0mmbs\u001b[0m\u001b[0;34m)\u001b[0m\u001b[0;34m\u001b[0m\u001b[0;34m\u001b[0m\u001b[0m\n\u001b[0m\u001b[1;32m     18\u001b[0m \u001b[0;34m\u001b[0m\u001b[0m\n\u001b[1;32m     19\u001b[0m     \u001b[0;32mreturn\u001b[0m \u001b[0mhistory\u001b[0m\u001b[0;34m\u001b[0m\u001b[0;34m\u001b[0m\u001b[0m\n",
            "\u001b[0;32m~/anaconda3/lib/python3.8/site-packages/tensorflow/python/keras/engine/training.py\u001b[0m in \u001b[0;36m_method_wrapper\u001b[0;34m(self, *args, **kwargs)\u001b[0m\n\u001b[1;32m    106\u001b[0m   \u001b[0;32mdef\u001b[0m \u001b[0m_method_wrapper\u001b[0m\u001b[0;34m(\u001b[0m\u001b[0mself\u001b[0m\u001b[0;34m,\u001b[0m \u001b[0;34m*\u001b[0m\u001b[0margs\u001b[0m\u001b[0;34m,\u001b[0m \u001b[0;34m**\u001b[0m\u001b[0mkwargs\u001b[0m\u001b[0;34m)\u001b[0m\u001b[0;34m:\u001b[0m\u001b[0;34m\u001b[0m\u001b[0;34m\u001b[0m\u001b[0m\n\u001b[1;32m    107\u001b[0m     \u001b[0;32mif\u001b[0m \u001b[0;32mnot\u001b[0m \u001b[0mself\u001b[0m\u001b[0;34m.\u001b[0m\u001b[0m_in_multi_worker_mode\u001b[0m\u001b[0;34m(\u001b[0m\u001b[0;34m)\u001b[0m\u001b[0;34m:\u001b[0m  \u001b[0;31m# pylint: disable=protected-access\u001b[0m\u001b[0;34m\u001b[0m\u001b[0;34m\u001b[0m\u001b[0m\n\u001b[0;32m--> 108\u001b[0;31m       \u001b[0;32mreturn\u001b[0m \u001b[0mmethod\u001b[0m\u001b[0;34m(\u001b[0m\u001b[0mself\u001b[0m\u001b[0;34m,\u001b[0m \u001b[0;34m*\u001b[0m\u001b[0margs\u001b[0m\u001b[0;34m,\u001b[0m \u001b[0;34m**\u001b[0m\u001b[0mkwargs\u001b[0m\u001b[0;34m)\u001b[0m\u001b[0;34m\u001b[0m\u001b[0;34m\u001b[0m\u001b[0m\n\u001b[0m\u001b[1;32m    109\u001b[0m \u001b[0;34m\u001b[0m\u001b[0m\n\u001b[1;32m    110\u001b[0m     \u001b[0;31m# Running inside `run_distribute_coordinator` already.\u001b[0m\u001b[0;34m\u001b[0m\u001b[0;34m\u001b[0m\u001b[0;34m\u001b[0m\u001b[0m\n",
            "\u001b[0;32m~/anaconda3/lib/python3.8/site-packages/tensorflow/python/keras/engine/training.py\u001b[0m in \u001b[0;36mfit\u001b[0;34m(self, x, y, batch_size, epochs, verbose, callbacks, validation_split, validation_data, shuffle, class_weight, sample_weight, initial_epoch, steps_per_epoch, validation_steps, validation_batch_size, validation_freq, max_queue_size, workers, use_multiprocessing)\u001b[0m\n\u001b[1;32m   1096\u001b[0m                 batch_size=batch_size):\n\u001b[1;32m   1097\u001b[0m               \u001b[0mcallbacks\u001b[0m\u001b[0;34m.\u001b[0m\u001b[0mon_train_batch_begin\u001b[0m\u001b[0;34m(\u001b[0m\u001b[0mstep\u001b[0m\u001b[0;34m)\u001b[0m\u001b[0;34m\u001b[0m\u001b[0;34m\u001b[0m\u001b[0m\n\u001b[0;32m-> 1098\u001b[0;31m               \u001b[0mtmp_logs\u001b[0m \u001b[0;34m=\u001b[0m \u001b[0mtrain_function\u001b[0m\u001b[0;34m(\u001b[0m\u001b[0miterator\u001b[0m\u001b[0;34m)\u001b[0m\u001b[0;34m\u001b[0m\u001b[0;34m\u001b[0m\u001b[0m\n\u001b[0m\u001b[1;32m   1099\u001b[0m               \u001b[0;32mif\u001b[0m \u001b[0mdata_handler\u001b[0m\u001b[0;34m.\u001b[0m\u001b[0mshould_sync\u001b[0m\u001b[0;34m:\u001b[0m\u001b[0;34m\u001b[0m\u001b[0;34m\u001b[0m\u001b[0m\n\u001b[1;32m   1100\u001b[0m                 \u001b[0mcontext\u001b[0m\u001b[0;34m.\u001b[0m\u001b[0masync_wait\u001b[0m\u001b[0;34m(\u001b[0m\u001b[0;34m)\u001b[0m\u001b[0;34m\u001b[0m\u001b[0;34m\u001b[0m\u001b[0m\n",
            "\u001b[0;32m~/anaconda3/lib/python3.8/site-packages/tensorflow/python/eager/def_function.py\u001b[0m in \u001b[0;36m__call__\u001b[0;34m(self, *args, **kwds)\u001b[0m\n\u001b[1;32m    778\u001b[0m       \u001b[0;32melse\u001b[0m\u001b[0;34m:\u001b[0m\u001b[0;34m\u001b[0m\u001b[0;34m\u001b[0m\u001b[0m\n\u001b[1;32m    779\u001b[0m         \u001b[0mcompiler\u001b[0m \u001b[0;34m=\u001b[0m \u001b[0;34m\"nonXla\"\u001b[0m\u001b[0;34m\u001b[0m\u001b[0;34m\u001b[0m\u001b[0m\n\u001b[0;32m--> 780\u001b[0;31m         \u001b[0mresult\u001b[0m \u001b[0;34m=\u001b[0m \u001b[0mself\u001b[0m\u001b[0;34m.\u001b[0m\u001b[0m_call\u001b[0m\u001b[0;34m(\u001b[0m\u001b[0;34m*\u001b[0m\u001b[0margs\u001b[0m\u001b[0;34m,\u001b[0m \u001b[0;34m**\u001b[0m\u001b[0mkwds\u001b[0m\u001b[0;34m)\u001b[0m\u001b[0;34m\u001b[0m\u001b[0;34m\u001b[0m\u001b[0m\n\u001b[0m\u001b[1;32m    781\u001b[0m \u001b[0;34m\u001b[0m\u001b[0m\n\u001b[1;32m    782\u001b[0m       \u001b[0mnew_tracing_count\u001b[0m \u001b[0;34m=\u001b[0m \u001b[0mself\u001b[0m\u001b[0;34m.\u001b[0m\u001b[0m_get_tracing_count\u001b[0m\u001b[0;34m(\u001b[0m\u001b[0;34m)\u001b[0m\u001b[0;34m\u001b[0m\u001b[0;34m\u001b[0m\u001b[0m\n",
            "\u001b[0;32m~/anaconda3/lib/python3.8/site-packages/tensorflow/python/eager/def_function.py\u001b[0m in \u001b[0;36m_call\u001b[0;34m(self, *args, **kwds)\u001b[0m\n\u001b[1;32m    838\u001b[0m         \u001b[0;31m# Lifting succeeded, so variables are initialized and we can run the\u001b[0m\u001b[0;34m\u001b[0m\u001b[0;34m\u001b[0m\u001b[0;34m\u001b[0m\u001b[0m\n\u001b[1;32m    839\u001b[0m         \u001b[0;31m# stateless function.\u001b[0m\u001b[0;34m\u001b[0m\u001b[0;34m\u001b[0m\u001b[0;34m\u001b[0m\u001b[0m\n\u001b[0;32m--> 840\u001b[0;31m         \u001b[0;32mreturn\u001b[0m \u001b[0mself\u001b[0m\u001b[0;34m.\u001b[0m\u001b[0m_stateless_fn\u001b[0m\u001b[0;34m(\u001b[0m\u001b[0;34m*\u001b[0m\u001b[0margs\u001b[0m\u001b[0;34m,\u001b[0m \u001b[0;34m**\u001b[0m\u001b[0mkwds\u001b[0m\u001b[0;34m)\u001b[0m\u001b[0;34m\u001b[0m\u001b[0;34m\u001b[0m\u001b[0m\n\u001b[0m\u001b[1;32m    841\u001b[0m     \u001b[0;32melse\u001b[0m\u001b[0;34m:\u001b[0m\u001b[0;34m\u001b[0m\u001b[0;34m\u001b[0m\u001b[0m\n\u001b[1;32m    842\u001b[0m       \u001b[0mcanon_args\u001b[0m\u001b[0;34m,\u001b[0m \u001b[0mcanon_kwds\u001b[0m \u001b[0;34m=\u001b[0m\u001b[0;31m \u001b[0m\u001b[0;31m\\\u001b[0m\u001b[0;34m\u001b[0m\u001b[0;34m\u001b[0m\u001b[0m\n",
            "\u001b[0;32m~/anaconda3/lib/python3.8/site-packages/tensorflow/python/eager/function.py\u001b[0m in \u001b[0;36m__call__\u001b[0;34m(self, *args, **kwargs)\u001b[0m\n\u001b[1;32m   2827\u001b[0m     \u001b[0;32mwith\u001b[0m \u001b[0mself\u001b[0m\u001b[0;34m.\u001b[0m\u001b[0m_lock\u001b[0m\u001b[0;34m:\u001b[0m\u001b[0;34m\u001b[0m\u001b[0;34m\u001b[0m\u001b[0m\n\u001b[1;32m   2828\u001b[0m       \u001b[0mgraph_function\u001b[0m\u001b[0;34m,\u001b[0m \u001b[0margs\u001b[0m\u001b[0;34m,\u001b[0m \u001b[0mkwargs\u001b[0m \u001b[0;34m=\u001b[0m \u001b[0mself\u001b[0m\u001b[0;34m.\u001b[0m\u001b[0m_maybe_define_function\u001b[0m\u001b[0;34m(\u001b[0m\u001b[0margs\u001b[0m\u001b[0;34m,\u001b[0m \u001b[0mkwargs\u001b[0m\u001b[0;34m)\u001b[0m\u001b[0;34m\u001b[0m\u001b[0;34m\u001b[0m\u001b[0m\n\u001b[0;32m-> 2829\u001b[0;31m     \u001b[0;32mreturn\u001b[0m \u001b[0mgraph_function\u001b[0m\u001b[0;34m.\u001b[0m\u001b[0m_filtered_call\u001b[0m\u001b[0;34m(\u001b[0m\u001b[0margs\u001b[0m\u001b[0;34m,\u001b[0m \u001b[0mkwargs\u001b[0m\u001b[0;34m)\u001b[0m  \u001b[0;31m# pylint: disable=protected-access\u001b[0m\u001b[0;34m\u001b[0m\u001b[0;34m\u001b[0m\u001b[0m\n\u001b[0m\u001b[1;32m   2830\u001b[0m \u001b[0;34m\u001b[0m\u001b[0m\n\u001b[1;32m   2831\u001b[0m   \u001b[0;34m@\u001b[0m\u001b[0mproperty\u001b[0m\u001b[0;34m\u001b[0m\u001b[0;34m\u001b[0m\u001b[0m\n",
            "\u001b[0;32m~/anaconda3/lib/python3.8/site-packages/tensorflow/python/eager/function.py\u001b[0m in \u001b[0;36m_filtered_call\u001b[0;34m(self, args, kwargs, cancellation_manager)\u001b[0m\n\u001b[1;32m   1841\u001b[0m       \u001b[0;31m`\u001b[0m\u001b[0margs\u001b[0m\u001b[0;31m`\u001b[0m \u001b[0;32mand\u001b[0m\u001b[0;31m \u001b[0m\u001b[0;31m`\u001b[0m\u001b[0mkwargs\u001b[0m\u001b[0;31m`\u001b[0m\u001b[0;34m.\u001b[0m\u001b[0;34m\u001b[0m\u001b[0;34m\u001b[0m\u001b[0m\n\u001b[1;32m   1842\u001b[0m     \"\"\"\n\u001b[0;32m-> 1843\u001b[0;31m     return self._call_flat(\n\u001b[0m\u001b[1;32m   1844\u001b[0m         [t for t in nest.flatten((args, kwargs), expand_composites=True)\n\u001b[1;32m   1845\u001b[0m          if isinstance(t, (ops.Tensor,\n",
            "\u001b[0;32m~/anaconda3/lib/python3.8/site-packages/tensorflow/python/eager/function.py\u001b[0m in \u001b[0;36m_call_flat\u001b[0;34m(self, args, captured_inputs, cancellation_manager)\u001b[0m\n\u001b[1;32m   1921\u001b[0m         and executing_eagerly):\n\u001b[1;32m   1922\u001b[0m       \u001b[0;31m# No tape is watching; skip to running the function.\u001b[0m\u001b[0;34m\u001b[0m\u001b[0;34m\u001b[0m\u001b[0;34m\u001b[0m\u001b[0m\n\u001b[0;32m-> 1923\u001b[0;31m       return self._build_call_outputs(self._inference_function.call(\n\u001b[0m\u001b[1;32m   1924\u001b[0m           ctx, args, cancellation_manager=cancellation_manager))\n\u001b[1;32m   1925\u001b[0m     forward_backward = self._select_forward_and_backward_functions(\n",
            "\u001b[0;32m~/anaconda3/lib/python3.8/site-packages/tensorflow/python/eager/function.py\u001b[0m in \u001b[0;36mcall\u001b[0;34m(self, ctx, args, cancellation_manager)\u001b[0m\n\u001b[1;32m    543\u001b[0m       \u001b[0;32mwith\u001b[0m \u001b[0m_InterpolateFunctionError\u001b[0m\u001b[0;34m(\u001b[0m\u001b[0mself\u001b[0m\u001b[0;34m)\u001b[0m\u001b[0;34m:\u001b[0m\u001b[0;34m\u001b[0m\u001b[0;34m\u001b[0m\u001b[0m\n\u001b[1;32m    544\u001b[0m         \u001b[0;32mif\u001b[0m \u001b[0mcancellation_manager\u001b[0m \u001b[0;32mis\u001b[0m \u001b[0;32mNone\u001b[0m\u001b[0;34m:\u001b[0m\u001b[0;34m\u001b[0m\u001b[0;34m\u001b[0m\u001b[0m\n\u001b[0;32m--> 545\u001b[0;31m           outputs = execute.execute(\n\u001b[0m\u001b[1;32m    546\u001b[0m               \u001b[0mstr\u001b[0m\u001b[0;34m(\u001b[0m\u001b[0mself\u001b[0m\u001b[0;34m.\u001b[0m\u001b[0msignature\u001b[0m\u001b[0;34m.\u001b[0m\u001b[0mname\u001b[0m\u001b[0;34m)\u001b[0m\u001b[0;34m,\u001b[0m\u001b[0;34m\u001b[0m\u001b[0;34m\u001b[0m\u001b[0m\n\u001b[1;32m    547\u001b[0m               \u001b[0mnum_outputs\u001b[0m\u001b[0;34m=\u001b[0m\u001b[0mself\u001b[0m\u001b[0;34m.\u001b[0m\u001b[0m_num_outputs\u001b[0m\u001b[0;34m,\u001b[0m\u001b[0;34m\u001b[0m\u001b[0;34m\u001b[0m\u001b[0m\n",
            "\u001b[0;32m~/anaconda3/lib/python3.8/site-packages/tensorflow/python/eager/execute.py\u001b[0m in \u001b[0;36mquick_execute\u001b[0;34m(op_name, num_outputs, inputs, attrs, ctx, name)\u001b[0m\n\u001b[1;32m     57\u001b[0m   \u001b[0;32mtry\u001b[0m\u001b[0;34m:\u001b[0m\u001b[0;34m\u001b[0m\u001b[0;34m\u001b[0m\u001b[0m\n\u001b[1;32m     58\u001b[0m     \u001b[0mctx\u001b[0m\u001b[0;34m.\u001b[0m\u001b[0mensure_initialized\u001b[0m\u001b[0;34m(\u001b[0m\u001b[0;34m)\u001b[0m\u001b[0;34m\u001b[0m\u001b[0;34m\u001b[0m\u001b[0m\n\u001b[0;32m---> 59\u001b[0;31m     tensors = pywrap_tfe.TFE_Py_Execute(ctx._handle, device_name, op_name,\n\u001b[0m\u001b[1;32m     60\u001b[0m                                         inputs, attrs, num_outputs)\n\u001b[1;32m     61\u001b[0m   \u001b[0;32mexcept\u001b[0m \u001b[0mcore\u001b[0m\u001b[0;34m.\u001b[0m\u001b[0m_NotOkStatusException\u001b[0m \u001b[0;32mas\u001b[0m \u001b[0me\u001b[0m\u001b[0;34m:\u001b[0m\u001b[0;34m\u001b[0m\u001b[0;34m\u001b[0m\u001b[0m\n",
            "\u001b[0;31mInvalidArgumentError\u001b[0m:  Incompatible shapes: [15,10,10,7] vs. [15,1]\n\t [[node SquaredDifference (defined at <ipython-input-24-c3b041ad8b35>:17) ]] [Op:__inference_train_function_286294]\n\nFunction call stack:\ntrain_function\n"
          ]
        }
      ]
    },
    {
      "cell_type": "markdown",
      "metadata": {
        "id": "ZJaDFVDJuExl"
      },
      "source": [
        "## Evaluación de resultados"
      ]
    },
    {
      "cell_type": "code",
      "metadata": {
        "id": "N8oSo435srPO",
        "outputId": "26e27d56-4453-4bd5-bbc4-d03897ebf932"
      },
      "source": [
        "model = history.model\n",
        "model.load_weights(checkpoint)\n",
        "model.summary()"
      ],
      "execution_count": null,
      "outputs": [
        {
          "output_type": "stream",
          "text": [
            "Model: \"sequential_10\"\n",
            "_________________________________________________________________\n",
            "Layer (type)                 Output Shape              Param #   \n",
            "=================================================================\n",
            "sequential_9 (Sequential)    (None, 32)                19392     \n",
            "_________________________________________________________________\n",
            "flatten_3 (Flatten)          (None, 32)                0         \n",
            "_________________________________________________________________\n",
            "dropout_5 (Dropout)          (None, 32)                0         \n",
            "_________________________________________________________________\n",
            "dense_9 (Dense)              (None, 512)               16896     \n",
            "_________________________________________________________________\n",
            "activation_6 (Activation)    (None, 512)               0         \n",
            "_________________________________________________________________\n",
            "dense_10 (Dense)             (None, 512)               262656    \n",
            "_________________________________________________________________\n",
            "activation_7 (Activation)    (None, 512)               0         \n",
            "_________________________________________________________________\n",
            "dense_11 (Dense)             (None, 7)                 3591      \n",
            "=================================================================\n",
            "Total params: 302,535\n",
            "Trainable params: 302,535\n",
            "Non-trainable params: 0\n",
            "_________________________________________________________________\n"
          ],
          "name": "stdout"
        }
      ]
    },
    {
      "cell_type": "code",
      "metadata": {
        "id": "kj1uP_JVsrPP"
      },
      "source": [
        "loaded_model = tf.keras.models.load_model(checkpoint)\n",
        "\n",
        "loaded_model.compile(loss='sparse_categorical_crossentropy', optimizer=RMSpropEstudio, metrics=['accuracy'])"
      ],
      "execution_count": null,
      "outputs": []
    },
    {
      "cell_type": "code",
      "metadata": {
        "id": "KxR9b5ZcsrPP",
        "outputId": "2e51c19d-01ee-4bfb-9762-2bb2d198b68a"
      },
      "source": [
        "test_eval = loaded_model.evaluate(x_test, y_test)"
      ],
      "execution_count": null,
      "outputs": [
        {
          "output_type": "stream",
          "text": [
            "110/110 [==============================] - 2s 17ms/step - loss: 0.4651 - accuracy: 0.8834\n"
          ],
          "name": "stdout"
        }
      ]
    },
    {
      "cell_type": "code",
      "metadata": {
        "id": "ampQ1-iRsrPP"
      },
      "source": [
        "def plot_acc(history,epochs,name):\n",
        "    print('\\n\\n')     \n",
        "    plt.figure(figsize=(12,8))\n",
        "    plt.figure(figsize=(12,8))\n",
        "    plt.plot(np.arange(0, epochs), history.history[\"loss\"][0:epochs], label=\"train_loss\")\n",
        "    plt.plot(np.arange(0, epochs), history.history[\"val_loss\"][0:epochs], label=\"val_loss\")\n",
        "    plt.plot(np.arange(0, epochs), history.history[\"accuracy\"][0:epochs], label=\"train_acc\")\n",
        "    plt.plot(np.arange(0, epochs), history.history[\"val_accuracy\"][0:epochs], label=\"val_acc\")\n",
        "    plt.title(\"Training Loss and Accuracy - {}\".format(name))\n",
        "    plt.xlabel(\"Epoch #\")\n",
        "    plt.ylabel(\"Loss\")\n",
        "    plt.xlabel(\"Epoch #\")\n",
        "    plt.ylabel(\"Accuracy\")\n",
        "    plt.legend()\n",
        "    plt.show()"
      ],
      "execution_count": null,
      "outputs": []
    },
    {
      "cell_type": "code",
      "metadata": {
        "id": "f9jdbX50srPQ",
        "outputId": "fcfbbe66-db09-4a68-cf58-41e48cc88961"
      },
      "source": [
        "plot_acc(history,1200,\"CNN\")"
      ],
      "execution_count": null,
      "outputs": [
        {
          "output_type": "stream",
          "text": [
            "\n",
            "\n",
            "\n"
          ],
          "name": "stdout"
        },
        {
          "output_type": "display_data",
          "data": {
            "text/plain": [
              "<Figure size 864x576 with 0 Axes>"
            ]
          },
          "metadata": {
            "tags": []
          }
        },
        {
          "output_type": "display_data",
          "data": {
            "image/png": "[encoded data removed]",
            "text/plain": [
              "<Figure size 864x576 with 1 Axes>"
            ]
          },
          "metadata": {
            "tags": [],
            "needs_background": "light"
          }
        }
      ]
    },
    {
      "cell_type": "code",
      "metadata": {
        "id": "x1g5Z_-_srPQ"
      },
      "source": [
        ""
      ],
      "execution_count": null,
      "outputs": []
    }
  ]
}