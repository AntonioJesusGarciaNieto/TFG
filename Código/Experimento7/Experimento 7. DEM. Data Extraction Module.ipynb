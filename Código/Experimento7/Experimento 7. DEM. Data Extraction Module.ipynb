{
 "cells": [
  {
   "cell_type": "markdown",
   "metadata": {
    "id": "rsBFD7icF6Xc"
   },
   "source": [
    "# Experimento 7 : DEM. Data Extraction Module.\n",
    "\n",
    "En este experimiento se pretende crear un módulo no entrenable que extraiga información a través de la segmentación de la lesión."
   ]
  },
  {
   "cell_type": "markdown",
   "metadata": {},
   "source": [
    "## Librerías usadas."
   ]
  },
  {
   "cell_type": "code",
   "execution_count": 18,
   "metadata": {
    "id": "RxC7JJwlFuvk"
   },
   "outputs": [],
   "source": [
    "import numpy as np\n",
    "import pandas as pd\n",
    "import seaborn as sns\n",
    "from glob import glob\n",
    "from matplotlib import pyplot as plt\n",
    "import os\n",
    "import tensorflow as tf\n",
    "from tqdm import tqdm\n",
    "import cv2\n",
    "from sklearn.model_selection import train_test_split\n",
    "from sklearn.metrics import confusion_matrix\n",
    "from sklearn.utils import resample"
   ]
  },
  {
   "cell_type": "markdown",
   "metadata": {
    "id": "Pkqu4FPPGQgV"
   },
   "source": [
    "## Parámetros globales"
   ]
  },
  {
   "cell_type": "code",
   "execution_count": 19,
   "metadata": {
    "id": "CZazLFjjGZVf"
   },
   "outputs": [
    {
     "name": "stdout",
     "output_type": "stream",
     "text": [
      "/home/antgarnie/Escritorio/TFG/Datos\n",
      "/home/antgarnie/Escritorio/TFG/Datos/HAM10000_metadata.csv\n"
     ]
    }
   ],
   "source": [
    "#Rutas de los datos.\n",
    " \n",
    "data_dir = os.path.dirname(os.path.realpath(\"../TFG/Datos/HAM10000_metadata.csv\"))\n",
    "checkpoints = os.path.dirname(os.path.realpath(\"../TFG/Pix2PixCheckpoints/...\"))\n",
    "\n",
    "\n",
    "csv_path = os.path.realpath(data_dir + \"/HAM10000_metadata.csv\")\n",
    "\n",
    "#Variables globales\n",
    "\n",
    "altura = 64\n",
    "longitud = 64\n",
    "clases = 7\n",
    "\n",
    "\n",
    "print(data_dir)\n",
    "\n",
    "print(csv_path)\n",
    "\n"
   ]
  },
  {
   "cell_type": "code",
   "execution_count": 20,
   "metadata": {},
   "outputs": [
    {
     "name": "stdout",
     "output_type": "stream",
     "text": [
      "/home/antgarnie/Escritorio/TFG/DatosMascaraBinaria2/HAM10000_segmentations    /home/antgarnie/Escritorio/TFG/DatosMascaraSuperpuesta\n"
     ]
    }
   ],
   "source": [
    " \n",
    "data_dir_mascara_binaria = os.path.dirname(os.path.realpath(\"../TFG/DatosMascaraBinaria2/HAM10000_segmentations/...\"))\n",
    "data_dir_mascara_superpuesta = os.path.dirname(os.path.realpath(\"../TFG/DatosMascaraSuperpuesta/...\"))\n",
    "print(data_dir_mascara_binaria +\"    \"+ data_dir_mascara_superpuesta)"
   ]
  },
  {
   "cell_type": "markdown",
   "metadata": {
    "id": "UD9w48fEGfkF"
   },
   "source": [
    "## Creación del marco de datos."
   ]
  },
  {
   "cell_type": "code",
   "execution_count": 21,
   "metadata": {
    "colab": {
     "base_uri": "https://localhost:8080/",
     "height": 195
    },
    "id": "pf0IBVhhGehu",
    "outputId": "af59739a-413e-4a7d-c5ac-b775ab675e5d"
   },
   "outputs": [
    {
     "data": {
      "text/html": [
       "<div>\n",
       "<style scoped>\n",
       "    .dataframe tbody tr th:only-of-type {\n",
       "        vertical-align: middle;\n",
       "    }\n",
       "\n",
       "    .dataframe tbody tr th {\n",
       "        vertical-align: top;\n",
       "    }\n",
       "\n",
       "    .dataframe thead th {\n",
       "        text-align: right;\n",
       "    }\n",
       "</style>\n",
       "<table border=\"1\" class=\"dataframe\">\n",
       "  <thead>\n",
       "    <tr style=\"text-align: right;\">\n",
       "      <th></th>\n",
       "      <th>lesion_id</th>\n",
       "      <th>image_id</th>\n",
       "      <th>path</th>\n",
       "      <th>mask_path</th>\n",
       "      <th>rgb_mask_path</th>\n",
       "    </tr>\n",
       "  </thead>\n",
       "  <tbody>\n",
       "    <tr>\n",
       "      <th>0</th>\n",
       "      <td>HAM_0000118</td>\n",
       "      <td>ISIC_0027419</td>\n",
       "      <td>/home/antgarnie/Escritorio/TFG/Datos/HAM10000_...</td>\n",
       "      <td>/home/antgarnie/Escritorio/TFG/DatosMascaraBin...</td>\n",
       "      <td>/home/antgarnie/Escritorio/TFG/DatosMascaraSup...</td>\n",
       "    </tr>\n",
       "    <tr>\n",
       "      <th>1</th>\n",
       "      <td>HAM_0000118</td>\n",
       "      <td>ISIC_0025030</td>\n",
       "      <td>/home/antgarnie/Escritorio/TFG/Datos/HAM10000_...</td>\n",
       "      <td>/home/antgarnie/Escritorio/TFG/DatosMascaraBin...</td>\n",
       "      <td>/home/antgarnie/Escritorio/TFG/DatosMascaraSup...</td>\n",
       "    </tr>\n",
       "    <tr>\n",
       "      <th>2</th>\n",
       "      <td>HAM_0002730</td>\n",
       "      <td>ISIC_0026769</td>\n",
       "      <td>/home/antgarnie/Escritorio/TFG/Datos/HAM10000_...</td>\n",
       "      <td>/home/antgarnie/Escritorio/TFG/DatosMascaraBin...</td>\n",
       "      <td>/home/antgarnie/Escritorio/TFG/DatosMascaraSup...</td>\n",
       "    </tr>\n",
       "    <tr>\n",
       "      <th>3</th>\n",
       "      <td>HAM_0002730</td>\n",
       "      <td>ISIC_0025661</td>\n",
       "      <td>/home/antgarnie/Escritorio/TFG/Datos/HAM10000_...</td>\n",
       "      <td>/home/antgarnie/Escritorio/TFG/DatosMascaraBin...</td>\n",
       "      <td>/home/antgarnie/Escritorio/TFG/DatosMascaraSup...</td>\n",
       "    </tr>\n",
       "    <tr>\n",
       "      <th>4</th>\n",
       "      <td>HAM_0001466</td>\n",
       "      <td>ISIC_0031633</td>\n",
       "      <td>/home/antgarnie/Escritorio/TFG/Datos/HAM10000_...</td>\n",
       "      <td>/home/antgarnie/Escritorio/TFG/DatosMascaraBin...</td>\n",
       "      <td>/home/antgarnie/Escritorio/TFG/DatosMascaraSup...</td>\n",
       "    </tr>\n",
       "  </tbody>\n",
       "</table>\n",
       "</div>"
      ],
      "text/plain": [
       "     lesion_id      image_id  \\\n",
       "0  HAM_0000118  ISIC_0027419   \n",
       "1  HAM_0000118  ISIC_0025030   \n",
       "2  HAM_0002730  ISIC_0026769   \n",
       "3  HAM_0002730  ISIC_0025661   \n",
       "4  HAM_0001466  ISIC_0031633   \n",
       "\n",
       "                                                path  \\\n",
       "0  /home/antgarnie/Escritorio/TFG/Datos/HAM10000_...   \n",
       "1  /home/antgarnie/Escritorio/TFG/Datos/HAM10000_...   \n",
       "2  /home/antgarnie/Escritorio/TFG/Datos/HAM10000_...   \n",
       "3  /home/antgarnie/Escritorio/TFG/Datos/HAM10000_...   \n",
       "4  /home/antgarnie/Escritorio/TFG/Datos/HAM10000_...   \n",
       "\n",
       "                                           mask_path  \\\n",
       "0  /home/antgarnie/Escritorio/TFG/DatosMascaraBin...   \n",
       "1  /home/antgarnie/Escritorio/TFG/DatosMascaraBin...   \n",
       "2  /home/antgarnie/Escritorio/TFG/DatosMascaraBin...   \n",
       "3  /home/antgarnie/Escritorio/TFG/DatosMascaraBin...   \n",
       "4  /home/antgarnie/Escritorio/TFG/DatosMascaraBin...   \n",
       "\n",
       "                                       rgb_mask_path  \n",
       "0  /home/antgarnie/Escritorio/TFG/DatosMascaraSup...  \n",
       "1  /home/antgarnie/Escritorio/TFG/DatosMascaraSup...  \n",
       "2  /home/antgarnie/Escritorio/TFG/DatosMascaraSup...  \n",
       "3  /home/antgarnie/Escritorio/TFG/DatosMascaraSup...  \n",
       "4  /home/antgarnie/Escritorio/TFG/DatosMascaraSup...  "
      ]
     },
     "execution_count": 21,
     "metadata": {},
     "output_type": "execute_result"
    }
   ],
   "source": [
    "def combineData(data_dir):\n",
    "    all_image_path = glob(os.path.join(data_dir, '*', '*'))\n",
    "    imageid_path_dict = {os.path.splitext(os.path.basename(x))[0]: x for x in all_image_path}\n",
    "    return imageid_path_dict\n",
    "\n",
    "def combineData_1(data_dir):\n",
    "    all_image_path = glob(os.path.join(data_dir, '*'))\n",
    "    imageid_path_dict = {os.path.splitext(os.path.basename(x))[0]: x for x in all_image_path}\n",
    "    return imageid_path_dict\n",
    "\n",
    "\n",
    "\n",
    "\n",
    "#Inicializando el dataFrame\n",
    "\n",
    "dataFrame=pd.read_csv(csv_path)\n",
    "\n",
    "#Mezclando carpetas.\n",
    "\n",
    "data_dict = combineData(data_dir)\n",
    "data_dict_mask = combineData_1(data_dir_mascara_binaria)\n",
    "\n",
    "def rename_keys(d, keys):\n",
    "    return dict([(keys.get(k,k), v) for k, v in d.items()])\n",
    "\n",
    "keys_values_transformer = {}\n",
    "for element in data_dict_mask.keys():\n",
    "    element_trans = element.replace(\"_segmentation\",\"\")\n",
    "    keys_values_transformer[element]  = element_trans\n",
    "    \n",
    "\n",
    "\n",
    "data_dict_mask = rename_keys(data_dict_mask, keys_values_transformer)\n",
    "\n",
    "\n",
    "data_dict_rgb_mask = combineData(data_dir_mascara_superpuesta)\n",
    "\n",
    "# Inicializando diccionario de categorías\n",
    "\n",
    "lesion_type_dict = {\n",
    "    'nv': 'Melanocytic nevi',\n",
    "    'mel': 'Melanoma',\n",
    "    'bkl': 'Benign keratosis ',\n",
    "    'bcc': 'Basal cell carcinoma',\n",
    "    'akiec': 'Actinic keratoses',\n",
    "    'vasc': 'Vascular lesions',\n",
    "    'df': 'Dermatofibroma'\n",
    "}\n",
    "\n",
    "#Añadiendo columnas al dataFrame para que sea más legible.\n",
    "\n",
    "dataFrame['path'] = dataFrame['image_id'].map(data_dict.get)\n",
    "dataFrame['mask_path'] = dataFrame['image_id'].map(data_dict_mask.get)\n",
    "dataFrame['rgb_mask_path'] = dataFrame['image_id'].map(data_dict_rgb_mask.get)\n",
    "\n",
    "dataFrame = dataFrame.drop('dx', 1)\n",
    "dataFrame = dataFrame.drop('dx_type', 1)\n",
    "dataFrame = dataFrame.drop('age', 1)\n",
    "dataFrame = dataFrame.drop('sex', 1)\n",
    "dataFrame = dataFrame.drop('localization', 1)\n",
    "\n",
    "dataFrame.head()\n"
   ]
  },
  {
   "cell_type": "code",
   "execution_count": 22,
   "metadata": {
    "id": "H9ySeIuMHak_"
   },
   "outputs": [
    {
     "name": "stderr",
     "output_type": "stream",
     "text": [
      "100%|██████████| 10015/10015 [00:00<00:00, 710123.82it/s]"
     ]
    },
    {
     "name": "stdout",
     "output_type": "stream",
     "text": [
      "10015 400 100\n"
     ]
    },
    {
     "name": "stderr",
     "output_type": "stream",
     "text": [
      "\n"
     ]
    }
   ],
   "source": [
    "def prepro(l):\n",
    "    nl = []\n",
    "    for i in tqdm(range(len(l))):\n",
    "        splits = randurls[i].split(\"/\")\n",
    "        fileN = splits[-2]+\"/\"+splits[-1]\n",
    "        nl.append(fileN)\n",
    "    return nl\n",
    "\n",
    "n = 500                         #Número de muestras a tomar\n",
    "train_n = round(n*0.80)         #Separación de set de datos y entrenamiento\n",
    "imgurls = dataFrame['path']\n",
    "randurls = np.copy(imgurls)\n",
    "\n",
    "np.random.seed(23)              #Sirve para que la aleatoriedad seaa siempre la misma\n",
    "np.random.shuffle(randurls)\n",
    "randurls = prepro(randurls)\n",
    "#Partición train/test\n",
    "tr_urls = randurls[:train_n]\n",
    "ts_urls =randurls[train_n:n]\n",
    "\n",
    "print(len(imgurls), len(tr_urls),len(ts_urls))"
   ]
  },
  {
   "cell_type": "code",
   "execution_count": 27,
   "metadata": {},
   "outputs": [
    {
     "name": "stdout",
     "output_type": "stream",
     "text": [
      "################################################\n",
      "Center        ->  (64.5, 55.59)\n",
      "Area          ->  1258.0\n",
      "Radius        ->  27\n",
      "Correlation   ->  0.7475994423559037\n",
      "################################################\n"
     ]
    },
    {
     "data": {
      "image/png": "[encoded data removed]",
      "text/plain": [
       "<Figure size 432x288 with 1 Axes>"
      ]
     },
     "metadata": {
      "needs_background": "light"
     },
     "output_type": "display_data"
    }
   ],
   "source": [
    "def extract_info_from_an_image(img):\n",
    "\n",
    "    contours,hierarchy = cv2.findContours(img,2,1)\n",
    "    cnts = max(contours, key=cv2.contourArea)\n",
    "    ca = cv2.contourArea(cnts)\n",
    "    (x,y),radius = cv2.minEnclosingCircle(cnts)\n",
    "    radius = int(radius)\n",
    "    center = (round(x,2),round(y,2))\n",
    "    \n",
    "    return center,ca,radius\n",
    "\n",
    "def calculate_corcoef(img,out):\n",
    "    rows = []\n",
    "    columns = []\n",
    "    \n",
    "    for row in img: rows.append(sum(row))    \n",
    "    for col in out: columns.append(sum(col))\n",
    "\n",
    "    correlation_coeficient = np.corrcoef(rows,columns)[0][1]\n",
    "    return correlation_coeficient\n",
    "\n",
    "def norm_data(image_path,new_size):\n",
    "    img = cv2.imread(image_path)\n",
    "    img = cv2.resize(img,new_size)\n",
    "    img = cv2.cvtColor(img, cv2.COLOR_BGR2GRAY)\n",
    "    \n",
    "    def rotate_90_degrees(img):\n",
    "        out=cv2.transpose(img)\n",
    "        out=cv2.flip(out,flipCode=1)\n",
    "        return out\n",
    "    \n",
    "    rotated_image = rotate_90_degrees(img)\n",
    "    \n",
    "    return img,rotated_image\n",
    "\n",
    "def data_extractor_module(image_path,new_size,to_string=True):\n",
    "    img,rotated_image = norm_data(image_path,new_size)\n",
    "    center,ca,radius  = extract_info_from_an_image(img)\n",
    "    correlation_coeficient = calculate_corcoef(img,rotated_image)\n",
    "    if to_string:\n",
    "        print(\"################################################\")\n",
    "        print(\"Center        ->  \" + str(center))\n",
    "        print(\"Area          ->  \" + str(ca))\n",
    "        print(\"Radius        ->  \" + str(radius))\n",
    "        print(\"Correlation   ->  \" + str(correlation_coeficient))\n",
    "        print(\"################################################\")\n",
    "    \n",
    "    return center,ca,radius,correlation_coeficient\n",
    "\n",
    "image_index = 3\n",
    "center,ca,radius,correlation_coeficient = data_extractor_module(dataFrame['mask_path'][image_index],\n",
    "                                                                (128,128),\n",
    "                                                                to_string=True)   \n",
    "\n",
    "\n",
    "\n",
    "\n",
    "image,rot_img = norm_data(dataFrame['mask_path'][image_index],(128,128))\n",
    "plt.imshow(image)\n",
    "plt.show()"
   ]
  },
  {
   "cell_type": "code",
   "execution_count": null,
   "metadata": {},
   "outputs": [],
   "source": []
  }
 ],
 "metadata": {
  "accelerator": "GPU",
  "colab": {
   "collapsed_sections": [],
   "name": "Vgg16vs19.ipynb",
   "provenance": []
  },
  "kernelspec": {
   "display_name": "Python 3",
   "language": "python",
   "name": "python3"
  },
  "language_info": {
   "codemirror_mode": {
    "name": "ipython",
    "version": 3
   },
   "file_extension": ".py",
   "mimetype": "text/x-python",
   "name": "python",
   "nbconvert_exporter": "python",
   "pygments_lexer": "ipython3",
   "version": "3.7.6"
  }
 },
 "nbformat": 4,
 "nbformat_minor": 4
}
